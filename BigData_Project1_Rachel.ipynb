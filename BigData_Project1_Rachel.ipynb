{
 "cells": [
  {
   "cell_type": "markdown",
   "metadata": {},
   "source": [
    "# Project 1\n",
    "## Rachel Jordan Input "
   ]
  },
  {
   "cell_type": "code",
   "execution_count": 1,
   "metadata": {
    "collapsed": false
   },
   "outputs": [
    {
     "name": "stderr",
     "output_type": "stream",
     "text": [
      "\n",
      "Attaching package: ‘igraph’\n",
      "\n",
      "The following objects are masked from ‘package:stats’:\n",
      "\n",
      "    decompose, spectrum\n",
      "\n",
      "The following object is masked from ‘package:base’:\n",
      "\n",
      "    union\n",
      "\n"
     ]
    }
   ],
   "source": [
    "library(\"igraph\")"
   ]
  },
  {
   "cell_type": "markdown",
   "metadata": {},
   "source": [
    "Load the data "
   ]
  },
  {
   "cell_type": "code",
   "execution_count": 2,
   "metadata": {
    "collapsed": true
   },
   "outputs": [],
   "source": [
    "load(\"/Users/rachelcjordan/Downloads/astrocollab.Rdata\")"
   ]
  },
  {
   "cell_type": "code",
   "execution_count": 3,
   "metadata": {
    "collapsed": false
   },
   "outputs": [
    {
     "name": "stdout",
     "output_type": "stream",
     "text": [
      "IGRAPH UNW- 16706 121251 -- Astrophysics collaborations\n",
      "+ attr: name (g/c), Author (g/c), Citation (g/c), URL (g/c),\n",
      "| Description (g/c), name (v/c), weight (e/n)\n"
     ]
    }
   ],
   "source": [
    "summary(astrocollab)"
   ]
  },
  {
   "cell_type": "markdown",
   "metadata": {},
   "source": [
    "This is a undirected, named, and weighted graph this has 16706 vertices and 121251 edges attributes of the graph include: name, author, citation, URL, description, name, weight\n"
   ]
  },
  {
   "cell_type": "markdown",
   "metadata": {},
   "source": [
    "Data Prep;  #captures the vertices in order \n",
    "#16706/16706 vertices"
   ]
  },
  {
   "cell_type": "code",
   "execution_count": 4,
   "metadata": {
    "collapsed": false
   },
   "outputs": [
    {
     "name": "stderr",
     "output_type": "stream",
     "text": [
      "This graph was created by an old(er) igraph version.\n",
      "  Call upgrade_graph() on it to use with the current igraph version\n",
      "  For now we convert it on the fly...\n",
      "This graph was created by an old(er) igraph version.\n",
      "  Call upgrade_graph() on it to use with the current igraph version\n",
      "  For now we convert it on the fly...\n"
     ]
    },
    {
     "data": {
      "text/plain": [
       "+ 16706/16706 vertices, named:\n",
       "    [1] BIERMANN, PL                     STANEV, TKGT                    \n",
       "    [3] GOLDMAN, I                       WANDEL, A                       \n",
       "    [5] PILDIS, RA                       BREGMAN, JN                     \n",
       "    [7] EVRARD, AE                       SWARTZ, DA                      \n",
       "    [9] SUTHERLAND, PG                   HARKNESS, RP                    \n",
       "   [11] BECKER, W                        BARZIER, KTS                    \n",
       "   [13] TRUEMPER, J                      ANGELANTONJ, C                  \n",
       "   [15] AMENDOLA, L                      LITTERIO, M                     \n",
       "   [17] OCCHIONERO, F                    LOEB, A                         \n",
       "   [19] BRAINERD, JJ                     MEEGAN, CA                      \n",
       "+ ... omitted several vertices"
      ]
     },
     "execution_count": 4,
     "metadata": {},
     "output_type": "execute_result"
    }
   ],
   "source": [
    "V(astrocollab)"
   ]
  },
  {
   "cell_type": "code",
   "execution_count": 5,
   "metadata": {
    "collapsed": false
   },
   "outputs": [
    {
     "data": {
      "text/plain": [
       "IGRAPH UNW- 16706 121251 -- Astrophysics collaborations\n",
       "+ attr: name (g/c), Author (g/c), Citation (g/c), URL (g/c),\n",
       "| Description (g/c), name (v/c), weight (e/n)\n",
       "+ edges (vertex names):\n",
       " [1] BIERMANN, PL  --STANEV, TKGT   GOLDMAN, I    --WANDEL, A     \n",
       " [3] PILDIS, RA    --BREGMAN, JN    PILDIS, RA    --EVRARD, AE    \n",
       " [5] BREGMAN, JN   --EVRARD, AE     SWARTZ, DA    --SUTHERLAND, PG\n",
       " [7] SWARTZ, DA    --HARKNESS, RP   SUTHERLAND, PG--HARKNESS, RP  \n",
       " [9] BECKER, W     --BARZIER, KTS   BECKER, W     --TRUEMPER, J   \n",
       "[11] BARZIER, KTS  --TRUEMPER, J    ANGELANTONJ, C--AMENDOLA, L   \n",
       "[13] ANGELANTONJ, C--LITTERIO, M    AMENDOLA, L   --LITTERIO, M   \n",
       "+ ... omitted several edges"
      ]
     },
     "execution_count": 5,
     "metadata": {},
     "output_type": "execute_result"
    }
   ],
   "source": [
    "upgrade_graph(astrocollab)"
   ]
  },
  {
   "cell_type": "code",
   "execution_count": 6,
   "metadata": {
    "collapsed": true
   },
   "outputs": [],
   "source": [
    "myastro = upgrade_graph(astrocollab)"
   ]
  },
  {
   "cell_type": "code",
   "execution_count": 7,
   "metadata": {
    "collapsed": false
   },
   "outputs": [
    {
     "data": {
      "text/plain": [
       "IGRAPH UNW- 16706 121251 -- Astrophysics collaborations\n",
       "+ attr: name (g/c), Author (g/c), Citation (g/c), URL (g/c),\n",
       "| Description (g/c), name (v/c), weight (e/n)\n",
       "+ edges (vertex names):\n",
       " [1] BIERMANN, PL  --STANEV, TKGT   GOLDMAN, I    --WANDEL, A     \n",
       " [3] PILDIS, RA    --BREGMAN, JN    PILDIS, RA    --EVRARD, AE    \n",
       " [5] BREGMAN, JN   --EVRARD, AE     SWARTZ, DA    --SUTHERLAND, PG\n",
       " [7] SWARTZ, DA    --HARKNESS, RP   SUTHERLAND, PG--HARKNESS, RP  \n",
       " [9] BECKER, W     --BARZIER, KTS   BECKER, W     --TRUEMPER, J   \n",
       "[11] BARZIER, KTS  --TRUEMPER, J    ANGELANTONJ, C--AMENDOLA, L   \n",
       "[13] ANGELANTONJ, C--LITTERIO, M    AMENDOLA, L   --LITTERIO, M   \n",
       "+ ... omitted several edges"
      ]
     },
     "execution_count": 7,
     "metadata": {},
     "output_type": "execute_result"
    }
   ],
   "source": [
    "myastro"
   ]
  },
  {
   "cell_type": "code",
   "execution_count": null,
   "metadata": {
    "collapsed": true
   },
   "outputs": [],
   "source": [
    "plot(myastro)"
   ]
  },
  {
   "cell_type": "markdown",
   "metadata": {},
   "source": [
    "As we can see from above, we have a ton of data.  It not only takes a long time to process in R (if we can process all of the data due to memory capacity, but also the results (example plot above) is incomprehensible. "
   ]
  },
  {
   "cell_type": "markdown",
   "metadata": {
    "collapsed": true
   },
   "source": [
    "Prior to exploring the dataset and using different functions,we need to sample the dataset to get a smaller data size that we can explore \n",
    "\n"
   ]
  },
  {
   "cell_type": "code",
   "execution_count": null,
   "metadata": {
    "collapsed": false
   },
   "outputs": [],
   "source": [
    "is.simple(myastro) \n",
    "#result is true (simple) because its a graph without loops and multiple edges between vertices"
   ]
  },
  {
   "cell_type": "code",
   "execution_count": null,
   "metadata": {
    "collapsed": true
   },
   "outputs": [],
   "source": [
    "myastro <- simplify(myastro) # if needed, but not needed"
   ]
  },
  {
   "cell_type": "code",
   "execution_count": null,
   "metadata": {
    "collapsed": true
   },
   "outputs": [],
   "source": [
    "plot(myastro) #this is way too closely overlapping and not helpful, so need to take a sample \n"
   ]
  },
  {
   "cell_type": "code",
   "execution_count": null,
   "metadata": {
    "collapsed": false
   },
   "outputs": [],
   "source": [
    "#in order to simplify the amount of data (vertices and edges) we are looking at, lets find degrees\n",
    "\n",
    "degree <- degree(myastro)\n",
    "hist(degree)\n",
    "astrodist = degree.distribution(myastro, FALSE)\n",
    "astrodist = astrodist*100.0\n",
    "astrodist[1:50]\n",
    "\n",
    "#our new dataset is now astronew, as it is a sample of the original myastro dataset \n"
   ]
  },
  {
   "cell_type": "code",
   "execution_count": null,
   "metadata": {
    "collapsed": false
   },
   "outputs": [],
   "source": [
    "#delete all but the first 50 vertices \n",
    "astroseq <- V(myastro)\n",
    "astronew <- myastro - astroseq[51:16706]\n",
    "astronew <- simplify(astronew)\n",
    "plot(astronew)"
   ]
  },
  {
   "cell_type": "markdown",
   "metadata": {},
   "source": [
    "# 3. Experiement with some function that I have shown in the assoicate PPT file on BB. Preesent the results in writeup. "
   ]
  },
  {
   "cell_type": "code",
   "execution_count": null,
   "metadata": {
    "collapsed": false
   },
   "outputs": [],
   "source": [
    "#trying to build a standard representation of the graph (subgraph based on simplifying)\n",
    "vertex_attr(astronew) #finding vertex attriutes "
   ]
  },
  {
   "cell_type": "markdown",
   "metadata": {
    "collapsed": true
   },
   "source": [
    "Next using a function to create and adjacency matrix, which is a square matrix.  \n",
    "\n",
    "This function will query and find the adjacent vertices for multiple vertices at once "
   ]
  },
  {
   "cell_type": "markdown",
   "metadata": {},
   "source": [
    "Finding the adjacency matrix for the original dataset /matrix \n"
   ]
  },
  {
   "cell_type": "code",
   "execution_count": null,
   "metadata": {
    "collapsed": true
   },
   "outputs": [],
   "source": [
    "#adjmatrix = as_adjacency_matrix(myastro) #adjacency matrix\n"
   ]
  },
  {
   "cell_type": "code",
   "execution_count": null,
   "metadata": {
    "collapsed": false
   },
   "outputs": [],
   "source": [
    "#adjmatrix #this is too big "
   ]
  },
  {
   "cell_type": "markdown",
   "metadata": {},
   "source": [
    "Trying with small subset "
   ]
  },
  {
   "cell_type": "code",
   "execution_count": null,
   "metadata": {
    "collapsed": true
   },
   "outputs": [],
   "source": [
    "adjmatrix2 = as_adjacency_matrix(astronew) #adjacency matrix\n"
   ]
  },
  {
   "cell_type": "code",
   "execution_count": null,
   "metadata": {
    "collapsed": false
   },
   "outputs": [],
   "source": [
    "adjmatrix2"
   ]
  },
  {
   "cell_type": "markdown",
   "metadata": {},
   "source": [
    "Another function is the function that adds weights to the edges and vertices \n",
    "so in order to subset the matrix or create a subgraph, we can use the weights "
   ]
  },
  {
   "cell_type": "code",
   "execution_count": null,
   "metadata": {
    "collapsed": true
   },
   "outputs": [],
   "source": [
    "E(astronew)$weight = rnorm(ecount(astronew))"
   ]
  },
  {
   "cell_type": "code",
   "execution_count": null,
   "metadata": {
    "collapsed": true
   },
   "outputs": [],
   "source": [
    "V(astronew)$weight = rnorm(vcount(astronew))"
   ]
  },
  {
   "cell_type": "code",
   "execution_count": null,
   "metadata": {
    "collapsed": true
   },
   "outputs": [],
   "source": [
    "#merge the vertices with positive weight into a subgraph including the edge weight"
   ]
  },
  {
   "cell_type": "code",
   "execution_count": null,
   "metadata": {
    "collapsed": true
   },
   "outputs": [],
   "source": [
    "sg = induced.subgraph(astronew, which(V(astronew)$weight > 0.4))"
   ]
  },
  {
   "cell_type": "code",
   "execution_count": null,
   "metadata": {
    "collapsed": false
   },
   "outputs": [],
   "source": [
    "plot(sg, edge.label=round(E(sg)$weight, 5))"
   ]
  },
  {
   "cell_type": "markdown",
   "metadata": {},
   "source": [
    "Initially received an error, but when used the subset graph, was able to use and complete this function "
   ]
  },
  {
   "cell_type": "markdown",
   "metadata": {},
   "source": [
    "Next, I want to try the using the walktrap function which tries to find the connected\n",
    "subgraphs, called communities, in a graph via random walks "
   ]
  },
  {
   "cell_type": "code",
   "execution_count": null,
   "metadata": {
    "collapsed": true
   },
   "outputs": [],
   "source": [
    "wc = walktrap.community(myastro)"
   ]
  },
  {
   "cell_type": "code",
   "execution_count": null,
   "metadata": {
    "collapsed": false
   },
   "outputs": [],
   "source": [
    "wc"
   ]
  },
  {
   "cell_type": "code",
   "execution_count": null,
   "metadata": {
    "collapsed": true
   },
   "outputs": [],
   "source": [
    "plot(wc,myastro, vertex.size = .5, layout=layout.fruchterman.reingold)\n",
    "#groups: 4879, mod: 0.21"
   ]
  },
  {
   "cell_type": "code",
   "execution_count": null,
   "metadata": {
    "collapsed": true
   },
   "outputs": [],
   "source": [
    "#try to do this with subgraph, astronew\n",
    "wc2 = walktrap.community(astronew)"
   ]
  },
  {
   "cell_type": "code",
   "execution_count": null,
   "metadata": {
    "collapsed": false
   },
   "outputs": [],
   "source": [
    "wc2"
   ]
  },
  {
   "cell_type": "code",
   "execution_count": null,
   "metadata": {
    "collapsed": false
   },
   "outputs": [],
   "source": [
    "plot(wc2,astronew, vertex.size = .5, layout=layout.fruchterman.reingold)\n",
    "#here we found 23 groups, mod: 0.86"
   ]
  },
  {
   "cell_type": "code",
   "execution_count": null,
   "metadata": {
    "collapsed": true
   },
   "outputs": [],
   "source": [
    "#another try but specifying number of steps of random walks to perform w/ weights\n",
    "wc3 = walktrap.community(astronew, weights = E(astronew)$weight, steps = 5)"
   ]
  },
  {
   "cell_type": "code",
   "execution_count": null,
   "metadata": {
    "collapsed": false
   },
   "outputs": [],
   "source": [
    "wc3"
   ]
  },
  {
   "cell_type": "code",
   "execution_count": null,
   "metadata": {
    "collapsed": false
   },
   "outputs": [],
   "source": [
    "plot(wc3,astronew, vertex.size = .5, layout=layout.fruchterman.reingold)\n",
    "#here we found 23 groups, mod: 0.86"
   ]
  },
  {
   "cell_type": "markdown",
   "metadata": {},
   "source": [
    "Lastly, want to look at the degrees of my graph and subgraphs"
   ]
  },
  {
   "cell_type": "code",
   "execution_count": null,
   "metadata": {
    "collapsed": false
   },
   "outputs": [],
   "source": [
    "degree(astronew) #here each node in myastro is given number of degrees \n",
    "#which is the sum of its in and out degrees. "
   ]
  },
  {
   "cell_type": "code",
   "execution_count": null,
   "metadata": {
    "collapsed": false
   },
   "outputs": [],
   "source": [
    "hist(degree(astronew))"
   ]
  },
  {
   "cell_type": "markdown",
   "metadata": {},
   "source": [
    "# 4. Explore other functions "
   ]
  },
  {
   "cell_type": "markdown",
   "metadata": {},
   "source": [
    "#Function 1: \n",
    "#as_adj_list:  This created adjacency lists from a graph, either for adjacent edges or for neighboring vertices "
   ]
  },
  {
   "cell_type": "code",
   "execution_count": null,
   "metadata": {
    "collapsed": false
   },
   "outputs": [],
   "source": [
    "as_adj_list(astronew, mode = c(\"all\", \"out\", \"in\", \"total\"))"
   ]
  },
  {
   "cell_type": "code",
   "execution_count": null,
   "metadata": {
    "collapsed": false
   },
   "outputs": [],
   "source": [
    "as_adj_edge_list(astronew, mode = c(\"all\", \"out\", \"in\", \"total\"))"
   ]
  },
  {
   "cell_type": "markdown",
   "metadata": {},
   "source": [
    "Function 2: gorder()\n",
    "This function provides the number of vertices of a graph"
   ]
  },
  {
   "cell_type": "code",
   "execution_count": null,
   "metadata": {
    "collapsed": false
   },
   "outputs": [],
   "source": [
    "gorder(myastro) #16706"
   ]
  },
  {
   "cell_type": "code",
   "execution_count": null,
   "metadata": {
    "collapsed": false
   },
   "outputs": [],
   "source": [
    "gorder(astronew) #50"
   ]
  },
  {
   "cell_type": "markdown",
   "metadata": {},
   "source": [
    "Function 3: cluster_infomap"
   ]
  },
  {
   "cell_type": "code",
   "execution_count": null,
   "metadata": {
    "collapsed": false
   },
   "outputs": [],
   "source": [
    "cluster_infomap(myastro) #this takes way too long for larger dataset"
   ]
  },
  {
   "cell_type": "code",
   "execution_count": null,
   "metadata": {
    "collapsed": false
   },
   "outputs": [],
   "source": [
    "cluster_infomap(astronew)"
   ]
  },
  {
   "cell_type": "markdown",
   "metadata": {},
   "source": [
    "Function 4: decompose()"
   ]
  },
  {
   "cell_type": "markdown",
   "metadata": {},
   "source": [
    "This function creates a separate graph for each component of a graph "
   ]
  },
  {
   "cell_type": "code",
   "execution_count": null,
   "metadata": {
    "collapsed": false
   },
   "outputs": [],
   "source": [
    "dg <- decompose.graph(astronew)"
   ]
  },
  {
   "cell_type": "code",
   "execution_count": null,
   "metadata": {
    "collapsed": false
   },
   "outputs": [],
   "source": [
    "plot(dg[[1]])"
   ]
  },
  {
   "cell_type": "markdown",
   "metadata": {},
   "source": [
    "Function 5: Betweenness which helps with community detection"
   ]
  },
  {
   "cell_type": "code",
   "execution_count": null,
   "metadata": {
    "collapsed": false
   },
   "outputs": [],
   "source": [
    "betweenness(myastro)"
   ]
  },
  {
   "cell_type": "code",
   "execution_count": null,
   "metadata": {
    "collapsed": false
   },
   "outputs": [],
   "source": [
    "eb <- edge.betweenness(myastro)"
   ]
  },
  {
   "cell_type": "code",
   "execution_count": null,
   "metadata": {
    "collapsed": false
   },
   "outputs": [],
   "source": [
    "plot(eb)"
   ]
  },
  {
   "cell_type": "markdown",
   "metadata": {},
   "source": [
    "Function 6: Clusters; connected components "
   ]
  },
  {
   "cell_type": "code",
   "execution_count": null,
   "metadata": {
    "collapsed": false
   },
   "outputs": [],
   "source": [
    "c1 <- clusters(astronew)"
   ]
  },
  {
   "cell_type": "code",
   "execution_count": null,
   "metadata": {
    "collapsed": false
   },
   "outputs": [],
   "source": [
    "c1"
   ]
  },
  {
   "cell_type": "markdown",
   "metadata": {
    "collapsed": true
   },
   "source": [
    "Function 7: Find neighborhood of vertices using graph.neighborhoods"
   ]
  },
  {
   "cell_type": "code",
   "execution_count": null,
   "metadata": {
    "collapsed": false
   },
   "outputs": [],
   "source": [
    "gn <- graph.neighborhood(astronew, order =1)"
   ]
  },
  {
   "cell_type": "code",
   "execution_count": null,
   "metadata": {
    "collapsed": false
   },
   "outputs": [],
   "source": [
    "plot(gn[[1]])"
   ]
  },
  {
   "cell_type": "code",
   "execution_count": null,
   "metadata": {
    "collapsed": false
   },
   "outputs": [],
   "source": [
    "plot(gn[[2]])"
   ]
  },
  {
   "cell_type": "markdown",
   "metadata": {},
   "source": [
    "Function 8: eccentricity of the verticies in a graph"
   ]
  },
  {
   "cell_type": "code",
   "execution_count": null,
   "metadata": {
    "collapsed": false
   },
   "outputs": [],
   "source": [
    "eccentricity(astronew, vids = V(astronew), mode = c(\"all\", \"out\", \"in\", \"total\"))"
   ]
  },
  {
   "cell_type": "markdown",
   "metadata": {},
   "source": [
    "The function above calculates the exxentricity of a vertex is its shortest path distance from the fathest other node in the graph"
   ]
  },
  {
   "cell_type": "markdown",
   "metadata": {},
   "source": [
    "Function 9: The girth function measures the length of the shortest circle in a graph"
   ]
  },
  {
   "cell_type": "code",
   "execution_count": null,
   "metadata": {
    "collapsed": false
   },
   "outputs": [],
   "source": [
    "girth(astronew, circle = TRUE)"
   ]
  },
  {
   "cell_type": "markdown",
   "metadata": {},
   "source": [
    "Function 10: is_directed()"
   ]
  },
  {
   "cell_type": "code",
   "execution_count": null,
   "metadata": {
    "collapsed": false
   },
   "outputs": [],
   "source": [
    "is_directed(astronew)"
   ]
  },
  {
   "cell_type": "markdown",
   "metadata": {},
   "source": [
    "This is a function that can be easily used to determine if a graph is directed or not. "
   ]
  },
  {
   "cell_type": "markdown",
   "metadata": {},
   "source": [
    "# Part 5 "
   ]
  },
  {
   "cell_type": "code",
   "execution_count": null,
   "metadata": {
    "collapsed": false
   },
   "outputs": [],
   "source": [
    "#(a)Centrality\n",
    "\n",
    "#ac1 = alpha_centrality(myastro)\n",
    "#ac1\n",
    "\n"
   ]
  },
  {
   "cell_type": "code",
   "execution_count": null,
   "metadata": {
    "collapsed": false
   },
   "outputs": [],
   "source": [
    "ac2 = alpha_centrality(astronew)\n"
   ]
  },
  {
   "cell_type": "code",
   "execution_count": null,
   "metadata": {
    "collapsed": false
   },
   "outputs": [],
   "source": [
    "ac2\n",
    "max(ac2) # this is GELLER, DGFMJ, with 4.91417 centrality score \n",
    "#this function calculates the alpha centrality of the vertices in the given graph"
   ]
  },
  {
   "cell_type": "code",
   "execution_count": null,
   "metadata": {
    "collapsed": false
   },
   "outputs": [],
   "source": [
    "#(b)longest path \n",
    "#using diameter \n",
    "#this function calculates the diameter of a graph which is the length of the longest geodesic (shortest possible path)\n",
    "\n",
    "dia = diameter(myastro, directed = FALSE)\n"
   ]
  },
  {
   "cell_type": "code",
   "execution_count": null,
   "metadata": {
    "collapsed": true
   },
   "outputs": [],
   "source": [
    "max(dia)\n"
   ]
  },
  {
   "cell_type": "code",
   "execution_count": null,
   "metadata": {
    "collapsed": false
   },
   "outputs": [],
   "source": [
    "get.diameter(astronew)"
   ]
  },
  {
   "cell_type": "markdown",
   "metadata": {
    "collapsed": false
   },
   "source": [
    "#(c) largest clique \n",
    "\n",
    "#this function finds all the largest or all of the max cliques in an undirected graph.  \n",
    "#the size of the largest clique can also be calculated using max_cliques\n"
   ]
  },
  {
   "cell_type": "code",
   "execution_count": null,
   "metadata": {
    "collapsed": false
   },
   "outputs": [],
   "source": [
    "\n",
    "max_cliques(myastro)"
   ]
  },
  {
   "cell_type": "markdown",
   "metadata": {},
   "source": [
    "the result: [[21]]+ 5/50 vertices, named: [1] MEEGAN, CA    BRAINERD, JJ  BROCK, MN     PENDLETON, GN BRIGGS, MS   \n",
    "\n"
   ]
  },
  {
   "cell_type": "markdown",
   "metadata": {},
   "source": [
    "(d) ego\n",
    "This is the functions that find the vertices not farther than a given limit from another fixed vertex, these are called the neighborhood of the vertex finding neighbors"
   ]
  },
  {
   "cell_type": "code",
   "execution_count": null,
   "metadata": {
    "collapsed": false
   },
   "outputs": [],
   "source": [
    "ego(astronew, 1, nodes = V(astronew), mindist = 1)\n",
    "ego(astronew, 1, nodes = V(astronew), mindist = 0)\n",
    "\n"
   ]
  },
  {
   "cell_type": "code",
   "execution_count": null,
   "metadata": {
    "collapsed": false
   },
   "outputs": [],
   "source": [
    "\n",
    "#(e) power centrality \n",
    "#take a graph and returns the Boncich power of centralities of positions\n",
    "#(selected by nodes) and the decay rate for power contributions is specified \n",
    "#by exponent (1 by default)\n",
    "\n",
    "#high magnitudes indicate slower decays \n",
    "\n",
    "power_centrality(astronew, nodes = V(astronew), loops = FALSE, exponent = 0, rescale = TRUE, tol = 0, sparse = TRUE)\n",
    "\n",
    "#BRIGGS, MS   PENDLETON, GN       BROCK, MN        MOHR, JJ \n",
    "#0.036363636     0.036363636     0.036363636     0.018181818\n",
    "\n",
    "\n",
    "\n"
   ]
  },
  {
   "cell_type": "code",
   "execution_count": null,
   "metadata": {
    "collapsed": true
   },
   "outputs": [],
   "source": []
  }
 ],
 "metadata": {
  "kernelspec": {
   "display_name": "R",
   "language": "R",
   "name": "ir"
  },
  "language_info": {
   "codemirror_mode": "r",
   "file_extension": ".r",
   "mimetype": "text/x-r-source",
   "name": "R",
   "pygments_lexer": "r",
   "version": "3.2.3"
  }
 },
 "nbformat": 4,
 "nbformat_minor": 0
}
